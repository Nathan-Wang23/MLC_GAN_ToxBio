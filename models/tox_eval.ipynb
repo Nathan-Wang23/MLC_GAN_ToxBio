{
 "cells": [
  {
   "cell_type": "code",
   "execution_count": 44,
   "metadata": {},
   "outputs": [],
   "source": [
    "import numpy as np\n",
    "import torch\n",
    "import torch.nn as nn\n",
    "import torch.optim as optim\n",
    "from ase import Atoms\n",
    "from ase.io import read\n",
    "from torch_geometric.data import Data\n",
    "from torch_geometric.nn import MessagePassing\n",
    "from torch_geometric.utils import to_networkx\n",
    "from torch_geometric.data import DataLoader\n",
    "from sklearn.model_selection import train_test_split\n",
    "from ase.build import molecule\n",
    "import pandas as pd\n",
    "from rdkit import Chem\n",
    "from rdkit.Chem import AllChem"
   ]
  },
  {
   "cell_type": "code",
   "execution_count": 17,
   "metadata": {},
   "outputs": [],
   "source": [
    "class GraphConvolution(MessagePassing):\n",
    "    def __init__(self, in_channels, out_channels):\n",
    "        super(GraphConvolution, self).__init__(aggr='add')\n",
    "        self.lin = nn.Linear(in_channels, out_channels)\n",
    "\n",
    "    def forward(self, x, edge_index):\n",
    "        return self.propagate(edge_index, x=x)\n",
    "\n",
    "    def message(self, x_j):\n",
    "        return x_j\n",
    "\n",
    "    def update(self, aggr_out):\n",
    "        return self.lin(aggr_out)\n",
    "\n",
    "class GraphEncoder(nn.Module):\n",
    "    def __init__(self, input_dim, hidden_dim):\n",
    "        super(GraphEncoder, self).__init__()\n",
    "        self.conv1 = GraphConvolution(input_dim, hidden_dim)\n",
    "        self.conv2 = GraphConvolution(hidden_dim, hidden_dim)\n",
    "\n",
    "    def forward(self, data):\n",
    "        x, edge_index = data.x, data.edge_index\n",
    "        x = self.conv1(x, edge_index)\n",
    "        x = nn.ReLU()(x)\n",
    "        x = self.conv2(x, edge_index)\n",
    "        return x\n"
   ]
  },
  {
   "cell_type": "code",
   "execution_count": 79,
   "metadata": {},
   "outputs": [],
   "source": [
    "def load_data(csv_path, sdf_path):\n",
    "    graphs = []\n",
    "    # Load features from CSV\n",
    "    features_df = pd.read_csv(csv_path)\n",
    "    suppl = Chem.SDMolSupplier(sdf_path)\n",
    "\n",
    "    for mol in suppl:\n",
    "        if mol is not None:\n",
    "            positions = mol.GetConformer().GetPositions()\n",
    "            atomic_numbers = [atom.GetAtomicNum() for atom in mol.GetAtoms()]\n",
    "            properties = {}\n",
    "            for prop in mol.GetPropNames():\n",
    "                properties[prop] = mol.GetProp(prop)\n",
    "\n",
    "            #formula = properties['Formula']\n",
    "\n",
    "            atoms_list = []\n",
    "\n",
    "            bonds = []\n",
    "            for bond in mol.GetBonds():\n",
    "                bonds.append((bond.GetBeginAtomIdx(), bond.GetEndAtomIdx(), bond.GetBondTypeAsDouble()))\n",
    "\n",
    "            charges = []\n",
    "            for atom in mol.GetAtoms():\n",
    "                atom_index = atom.GetIdx()\n",
    "                symbol = atom.GetSymbol()\n",
    "                formal_charge = atom.GetFormalCharge()\n",
    "                atomic_number = atom.GetAtomicNum()\n",
    "                atomic_mass = atom.GetMass()\n",
    "                hybridization = atom.GetHybridization()\n",
    "                num_explicit_hs = atom.GetNumExplicitHs()\n",
    "                num_radical_electrons = atom.GetNumRadicalElectrons()\n",
    "                is_aromatic = atom.GetIsAromatic()\n",
    "                is_in_ring = atom.IsInRing()\n",
    "                position = mol.GetConformer().GetAtomPosition(atom_index)\n",
    "                charges.append(atom.GetFormalCharge())\n",
    "\n",
    "                atoms_list.append({\n",
    "                    \"index\": atom_index,\n",
    "                    \"symbol\": symbol,\n",
    "                    \"formal_charge\": formal_charge,\n",
    "                    \"atomic_number\": atomic_number,\n",
    "                    \"atomic_mass\": atomic_mass,\n",
    "                    \"hybridization\": hybridization,\n",
    "                    \"num_explicit_hs\": num_explicit_hs,\n",
    "                    \"num_radical_electrons\": num_radical_electrons,\n",
    "                    \"is_aromatic\": is_aromatic,\n",
    "                    \"is_in_ring\": is_in_ring,\n",
    "                    \"position\": position\n",
    "                })\n",
    "\n",
    "            # Create ASE atoms object\n",
    "            graphs.append({\n",
    "                \"Atoms\": atoms_list,\n",
    "                \"Bonds\": bonds,\n",
    "                \"Charges\": charges,\n",
    "                \"Properties\": properties\n",
    "            })\n",
    "    return graphs, features_df"
   ]
  },
  {
   "cell_type": "code",
   "execution_count": 80,
   "metadata": {},
   "outputs": [
    {
     "name": "stderr",
     "output_type": "stream",
     "text": [
      "[17:48:52] Explicit valence for atom # 3 Cl, 2, is greater than permitted\n",
      "[17:48:52] ERROR: Could not sanitize molecule ending on line 21572\n",
      "[17:48:52] ERROR: Explicit valence for atom # 3 Cl, 2, is greater than permitted\n",
      "[17:48:59] Warning: ambiguous stereochemistry - opposing bonds have opposite wedging - at atom 1 ignored.\n",
      "[17:48:59] Warning: ambiguous stereochemistry - opposing bonds have opposite wedging - at atom 1 ignored.\n",
      "[17:48:59] Warning: ambiguous stereochemistry - opposing bonds have opposite wedging - at atom 6 ignored.\n",
      "[17:48:59] Warning: ambiguous stereochemistry - opposing bonds have opposite wedging - at atom 6 ignored.\n",
      "[17:49:04] Explicit valence for atom # 2 Si, 8, is greater than permitted\n",
      "[17:49:04] ERROR: Could not sanitize molecule ending on line 346021\n",
      "[17:49:04] ERROR: Explicit valence for atom # 2 Si, 8, is greater than permitted\n",
      "[17:49:09] Explicit valence for atom # 3 Cl, 2, is greater than permitted\n",
      "[17:49:09] ERROR: Could not sanitize molecule ending on line 446665\n",
      "[17:49:09] ERROR: Explicit valence for atom # 3 Cl, 2, is greater than permitted\n",
      "[17:49:14] Explicit valence for atom # 1 Cl, 2, is greater than permitted\n",
      "[17:49:14] ERROR: Could not sanitize molecule ending on line 619150\n",
      "[17:49:14] ERROR: Explicit valence for atom # 1 Cl, 2, is greater than permitted\n",
      "[17:49:16] WARNING: not removing hydrogen atom without neighbors\n",
      "[17:49:21] Explicit valence for atom # 2 Si, 8, is greater than permitted\n",
      "[17:49:21] ERROR: Could not sanitize molecule ending on line 810094\n",
      "[17:49:21] ERROR: Explicit valence for atom # 2 Si, 8, is greater than permitted\n",
      "[17:49:27] Can't kekulize mol.  Unkekulized atoms: 1 2 5 6 7\n",
      "[17:49:27] ERROR: Could not sanitize molecule ending on line 980541\n",
      "[17:49:27] ERROR: Can't kekulize mol.  Unkekulized atoms: 1 2 5 6 7\n",
      "[17:49:27] Can't kekulize mol.  Unkekulized atoms: 0 1 2 3 4 5 6 7 8\n",
      "[17:49:27] ERROR: Could not sanitize molecule ending on line 982218\n",
      "[17:49:27] ERROR: Can't kekulize mol.  Unkekulized atoms: 0 1 2 3 4 5 6 7 8\n"
     ]
    }
   ],
   "source": [
    "# Load data\n",
    "graphs, features = load_data(\"../data/tox21/tox21_dense_train.csv\", \"../data/tox21/tox21.sdf\")\n"
   ]
  },
  {
   "cell_type": "code",
   "execution_count": 81,
   "metadata": {},
   "outputs": [
    {
     "name": "stdout",
     "output_type": "stream",
     "text": [
      "{'Atoms': [{'index': 0, 'symbol': 'Cl', 'formal_charge': -1, 'atomic_number': 17, 'atomic_mass': 35.453, 'hybridization': rdkit.Chem.rdchem.HybridizationType.SP3, 'num_explicit_hs': 0, 'num_radical_electrons': 0, 'is_aromatic': False, 'is_in_ring': False, 'position': <rdkit.Geometry.rdGeometry.Point3D object at 0x17a7d6a40>}, {'index': 1, 'symbol': 'C', 'formal_charge': 0, 'atomic_number': 6, 'atomic_mass': 12.011, 'hybridization': rdkit.Chem.rdchem.HybridizationType.SP3, 'num_explicit_hs': 0, 'num_radical_electrons': 0, 'is_aromatic': False, 'is_in_ring': False, 'position': <rdkit.Geometry.rdGeometry.Point3D object at 0x17a7d7140>}, {'index': 2, 'symbol': 'N', 'formal_charge': 1, 'atomic_number': 7, 'atomic_mass': 14.007, 'hybridization': rdkit.Chem.rdchem.HybridizationType.SP2, 'num_explicit_hs': 0, 'num_radical_electrons': 0, 'is_aromatic': True, 'is_in_ring': True, 'position': <rdkit.Geometry.rdGeometry.Point3D object at 0x17a7d6b40>}, {'index': 3, 'symbol': 'C', 'formal_charge': 0, 'atomic_number': 6, 'atomic_mass': 12.011, 'hybridization': rdkit.Chem.rdchem.HybridizationType.SP2, 'num_explicit_hs': 0, 'num_radical_electrons': 0, 'is_aromatic': True, 'is_in_ring': True, 'position': <rdkit.Geometry.rdGeometry.Point3D object at 0x17a7d72c0>}, {'index': 4, 'symbol': 'C', 'formal_charge': 0, 'atomic_number': 6, 'atomic_mass': 12.011, 'hybridization': rdkit.Chem.rdchem.HybridizationType.SP2, 'num_explicit_hs': 0, 'num_radical_electrons': 0, 'is_aromatic': True, 'is_in_ring': True, 'position': <rdkit.Geometry.rdGeometry.Point3D object at 0x17a7d7340>}, {'index': 5, 'symbol': 'C', 'formal_charge': 0, 'atomic_number': 6, 'atomic_mass': 12.011, 'hybridization': rdkit.Chem.rdchem.HybridizationType.SP2, 'num_explicit_hs': 0, 'num_radical_electrons': 0, 'is_aromatic': True, 'is_in_ring': True, 'position': <rdkit.Geometry.rdGeometry.Point3D object at 0x17a7d73c0>}, {'index': 6, 'symbol': 'N', 'formal_charge': 0, 'atomic_number': 7, 'atomic_mass': 14.007, 'hybridization': rdkit.Chem.rdchem.HybridizationType.SP2, 'num_explicit_hs': 0, 'num_radical_electrons': 0, 'is_aromatic': False, 'is_in_ring': False, 'position': <rdkit.Geometry.rdGeometry.Point3D object at 0x17a7d7440>}, {'index': 7, 'symbol': 'C', 'formal_charge': 0, 'atomic_number': 6, 'atomic_mass': 12.011, 'hybridization': rdkit.Chem.rdchem.HybridizationType.SP2, 'num_explicit_hs': 0, 'num_radical_electrons': 0, 'is_aromatic': True, 'is_in_ring': True, 'position': <rdkit.Geometry.rdGeometry.Point3D object at 0x17a7d74c0>}, {'index': 8, 'symbol': 'C', 'formal_charge': 0, 'atomic_number': 6, 'atomic_mass': 12.011, 'hybridization': rdkit.Chem.rdchem.HybridizationType.SP2, 'num_explicit_hs': 0, 'num_radical_electrons': 0, 'is_aromatic': True, 'is_in_ring': True, 'position': <rdkit.Geometry.rdGeometry.Point3D object at 0x17a7d7540>}, {'index': 9, 'symbol': 'C', 'formal_charge': 0, 'atomic_number': 6, 'atomic_mass': 12.011, 'hybridization': rdkit.Chem.rdchem.HybridizationType.SP2, 'num_explicit_hs': 0, 'num_radical_electrons': 0, 'is_aromatic': True, 'is_in_ring': True, 'position': <rdkit.Geometry.rdGeometry.Point3D object at 0x17a7d76c0>}, {'index': 10, 'symbol': 'C', 'formal_charge': 0, 'atomic_number': 6, 'atomic_mass': 12.011, 'hybridization': rdkit.Chem.rdchem.HybridizationType.SP2, 'num_explicit_hs': 0, 'num_radical_electrons': 0, 'is_aromatic': True, 'is_in_ring': True, 'position': <rdkit.Geometry.rdGeometry.Point3D object at 0x17a7d6bc0>}, {'index': 11, 'symbol': 'C', 'formal_charge': 0, 'atomic_number': 6, 'atomic_mass': 12.011, 'hybridization': rdkit.Chem.rdchem.HybridizationType.SP2, 'num_explicit_hs': 0, 'num_radical_electrons': 0, 'is_aromatic': True, 'is_in_ring': True, 'position': <rdkit.Geometry.rdGeometry.Point3D object at 0x17a7d78c0>}, {'index': 12, 'symbol': 'C', 'formal_charge': 0, 'atomic_number': 6, 'atomic_mass': 12.011, 'hybridization': rdkit.Chem.rdchem.HybridizationType.SP2, 'num_explicit_hs': 0, 'num_radical_electrons': 0, 'is_aromatic': True, 'is_in_ring': True, 'position': <rdkit.Geometry.rdGeometry.Point3D object at 0x17a7d7940>}, {'index': 13, 'symbol': 'C', 'formal_charge': 0, 'atomic_number': 6, 'atomic_mass': 12.011, 'hybridization': rdkit.Chem.rdchem.HybridizationType.SP2, 'num_explicit_hs': 0, 'num_radical_electrons': 0, 'is_aromatic': True, 'is_in_ring': True, 'position': <rdkit.Geometry.rdGeometry.Point3D object at 0x17a7d79c0>}, {'index': 14, 'symbol': 'C', 'formal_charge': 0, 'atomic_number': 6, 'atomic_mass': 12.011, 'hybridization': rdkit.Chem.rdchem.HybridizationType.SP2, 'num_explicit_hs': 0, 'num_radical_electrons': 0, 'is_aromatic': True, 'is_in_ring': True, 'position': <rdkit.Geometry.rdGeometry.Point3D object at 0x17a7d7840>}, {'index': 15, 'symbol': 'N', 'formal_charge': 0, 'atomic_number': 7, 'atomic_mass': 14.007, 'hybridization': rdkit.Chem.rdchem.HybridizationType.SP2, 'num_explicit_hs': 0, 'num_radical_electrons': 0, 'is_aromatic': False, 'is_in_ring': False, 'position': <rdkit.Geometry.rdGeometry.Point3D object at 0x17a7d7ac0>}, {'index': 16, 'symbol': 'C', 'formal_charge': 0, 'atomic_number': 6, 'atomic_mass': 12.011, 'hybridization': rdkit.Chem.rdchem.HybridizationType.SP2, 'num_explicit_hs': 0, 'num_radical_electrons': 0, 'is_aromatic': True, 'is_in_ring': True, 'position': <rdkit.Geometry.rdGeometry.Point3D object at 0x17a7d77c0>}, {'index': 17, 'symbol': 'C', 'formal_charge': 0, 'atomic_number': 6, 'atomic_mass': 12.011, 'hybridization': rdkit.Chem.rdchem.HybridizationType.SP2, 'num_explicit_hs': 0, 'num_radical_electrons': 0, 'is_aromatic': True, 'is_in_ring': True, 'position': <rdkit.Geometry.rdGeometry.Point3D object at 0x17a7d7640>}, {'index': 18, 'symbol': 'N', 'formal_charge': 0, 'atomic_number': 7, 'atomic_mass': 14.007, 'hybridization': rdkit.Chem.rdchem.HybridizationType.SP2, 'num_explicit_hs': 0, 'num_radical_electrons': 0, 'is_aromatic': True, 'is_in_ring': True, 'position': <rdkit.Geometry.rdGeometry.Point3D object at 0x17a7d75c0>}, {'index': 19, 'symbol': 'C', 'formal_charge': 0, 'atomic_number': 6, 'atomic_mass': 12.011, 'hybridization': rdkit.Chem.rdchem.HybridizationType.SP2, 'num_explicit_hs': 0, 'num_radical_electrons': 0, 'is_aromatic': True, 'is_in_ring': True, 'position': <rdkit.Geometry.rdGeometry.Point3D object at 0x17a7d7bc0>}, {'index': 20, 'symbol': 'C', 'formal_charge': 0, 'atomic_number': 6, 'atomic_mass': 12.011, 'hybridization': rdkit.Chem.rdchem.HybridizationType.SP2, 'num_explicit_hs': 0, 'num_radical_electrons': 0, 'is_aromatic': True, 'is_in_ring': True, 'position': <rdkit.Geometry.rdGeometry.Point3D object at 0x17a7d7c40>}, {'index': 21, 'symbol': 'C', 'formal_charge': 0, 'atomic_number': 6, 'atomic_mass': 12.011, 'hybridization': rdkit.Chem.rdchem.HybridizationType.SP2, 'num_explicit_hs': 0, 'num_radical_electrons': 0, 'is_aromatic': True, 'is_in_ring': True, 'position': <rdkit.Geometry.rdGeometry.Point3D object at 0x17a7d7cc0>}, {'index': 22, 'symbol': 'N', 'formal_charge': 0, 'atomic_number': 7, 'atomic_mass': 14.007, 'hybridization': rdkit.Chem.rdchem.HybridizationType.SP2, 'num_explicit_hs': 0, 'num_radical_electrons': 0, 'is_aromatic': False, 'is_in_ring': False, 'position': <rdkit.Geometry.rdGeometry.Point3D object at 0x17a7d7d40>}, {'index': 23, 'symbol': 'C', 'formal_charge': 0, 'atomic_number': 6, 'atomic_mass': 12.011, 'hybridization': rdkit.Chem.rdchem.HybridizationType.SP2, 'num_explicit_hs': 0, 'num_radical_electrons': 0, 'is_aromatic': True, 'is_in_ring': True, 'position': <rdkit.Geometry.rdGeometry.Point3D object at 0x17a7d7dc0>}, {'index': 24, 'symbol': 'C', 'formal_charge': 0, 'atomic_number': 6, 'atomic_mass': 12.011, 'hybridization': rdkit.Chem.rdchem.HybridizationType.SP2, 'num_explicit_hs': 0, 'num_radical_electrons': 0, 'is_aromatic': True, 'is_in_ring': True, 'position': <rdkit.Geometry.rdGeometry.Point3D object at 0x17a7d7e40>}, {'index': 25, 'symbol': 'C', 'formal_charge': 0, 'atomic_number': 6, 'atomic_mass': 12.011, 'hybridization': rdkit.Chem.rdchem.HybridizationType.SP2, 'num_explicit_hs': 0, 'num_radical_electrons': 0, 'is_aromatic': True, 'is_in_ring': True, 'position': <rdkit.Geometry.rdGeometry.Point3D object at 0x17a7d7ec0>}, {'index': 26, 'symbol': 'C', 'formal_charge': 0, 'atomic_number': 6, 'atomic_mass': 12.011, 'hybridization': rdkit.Chem.rdchem.HybridizationType.SP2, 'num_explicit_hs': 0, 'num_radical_electrons': 0, 'is_aromatic': True, 'is_in_ring': True, 'position': <rdkit.Geometry.rdGeometry.Point3D object at 0x17a7d7f40>}, {'index': 27, 'symbol': 'C', 'formal_charge': 0, 'atomic_number': 6, 'atomic_mass': 12.011, 'hybridization': rdkit.Chem.rdchem.HybridizationType.SP2, 'num_explicit_hs': 0, 'num_radical_electrons': 0, 'is_aromatic': True, 'is_in_ring': True, 'position': <rdkit.Geometry.rdGeometry.Point3D object at 0x17a7d7a40>}, {'index': 28, 'symbol': 'C', 'formal_charge': 0, 'atomic_number': 6, 'atomic_mass': 12.011, 'hybridization': rdkit.Chem.rdchem.HybridizationType.SP2, 'num_explicit_hs': 0, 'num_radical_electrons': 0, 'is_aromatic': True, 'is_in_ring': True, 'position': <rdkit.Geometry.rdGeometry.Point3D object at 0x17a7d7b40>}, {'index': 29, 'symbol': 'C', 'formal_charge': 0, 'atomic_number': 6, 'atomic_mass': 12.011, 'hybridization': rdkit.Chem.rdchem.HybridizationType.SP2, 'num_explicit_hs': 0, 'num_radical_electrons': 0, 'is_aromatic': True, 'is_in_ring': True, 'position': <rdkit.Geometry.rdGeometry.Point3D object at 0x17a7d7740>}, {'index': 30, 'symbol': 'C', 'formal_charge': 0, 'atomic_number': 6, 'atomic_mass': 12.011, 'hybridization': rdkit.Chem.rdchem.HybridizationType.SP2, 'num_explicit_hs': 0, 'num_radical_electrons': 0, 'is_aromatic': True, 'is_in_ring': True, 'position': <rdkit.Geometry.rdGeometry.Point3D object at 0x17a7d6dc0>}, {'index': 31, 'symbol': 'N', 'formal_charge': 0, 'atomic_number': 7, 'atomic_mass': 14.007, 'hybridization': rdkit.Chem.rdchem.HybridizationType.SP2, 'num_explicit_hs': 0, 'num_radical_electrons': 0, 'is_aromatic': False, 'is_in_ring': False, 'position': <rdkit.Geometry.rdGeometry.Point3D object at 0x17ddb40c0>}, {'index': 32, 'symbol': 'C', 'formal_charge': 0, 'atomic_number': 6, 'atomic_mass': 12.011, 'hybridization': rdkit.Chem.rdchem.HybridizationType.SP2, 'num_explicit_hs': 0, 'num_radical_electrons': 0, 'is_aromatic': True, 'is_in_ring': True, 'position': <rdkit.Geometry.rdGeometry.Point3D object at 0x17ddb4140>}, {'index': 33, 'symbol': 'C', 'formal_charge': 0, 'atomic_number': 6, 'atomic_mass': 12.011, 'hybridization': rdkit.Chem.rdchem.HybridizationType.SP2, 'num_explicit_hs': 0, 'num_radical_electrons': 0, 'is_aromatic': True, 'is_in_ring': True, 'position': <rdkit.Geometry.rdGeometry.Point3D object at 0x17ddb41c0>}], 'Bonds': [(1, 2, 1.0), (2, 3, 1.5), (2, 12, 1.5), (3, 4, 1.5), (3, 9, 1.5), (4, 5, 1.5), (5, 6, 1.0), (5, 7, 1.5), (7, 8, 1.5), (8, 9, 1.5), (9, 10, 1.5), (10, 11, 1.5), (11, 12, 1.5), (11, 17, 1.5), (12, 13, 1.5), (13, 14, 1.5), (14, 15, 1.0), (14, 16, 1.5), (16, 17, 1.5), (18, 19, 1.5), (18, 28, 1.5), (19, 20, 1.5), (19, 25, 1.5), (20, 21, 1.5), (21, 22, 1.0), (21, 23, 1.5), (23, 24, 1.5), (24, 25, 1.5), (25, 26, 1.5), (26, 27, 1.5), (27, 28, 1.5), (27, 33, 1.5), (28, 29, 1.5), (29, 30, 1.5), (30, 31, 1.0), (30, 32, 1.5), (32, 33, 1.5)], 'Charges': [-1, 0, 1, 0, 0, 0, 0, 0, 0, 0, 0, 0, 0, 0, 0, 0, 0, 0, 0, 0, 0, 0, 0, 0, 0, 0, 0, 0, 0, 0, 0, 0, 0, 0], 'Properties': {'Formula': 'C27H25ClN6', 'FW': '468.9806 (35.4535+224.2805+209.2465)', 'DSSTox_CID': '25848', 'SR-HSE': '0'}}\n"
     ]
    }
   ],
   "source": [
    "print(graphs[0])"
   ]
  },
  {
   "cell_type": "code",
   "execution_count": 82,
   "metadata": {},
   "outputs": [
    {
     "name": "stdout",
     "output_type": "stream",
     "text": [
      "12700\n"
     ]
    }
   ],
   "source": [
    "print(len(graphs))"
   ]
  },
  {
   "cell_type": "code",
   "execution_count": 85,
   "metadata": {},
   "outputs": [
    {
     "name": "stdout",
     "output_type": "stream",
     "text": [
      "            Unnamed: 0            AW  AWeight   Arto  BertzCT    Chi0    Chi1  \\\n",
      "0      NCGC00178831-03  5.436720e+07   13.053  2.176    3.194  23.112  15.868   \n",
      "1      NCGC00166114-03  1.268818e+07   22.123  2.065    3.137  21.033  13.718   \n",
      "2      NCGC00263563-01  3.076932e+06   13.085  2.154    3.207  46.896  29.958   \n",
      "3      NCGC00013058-02  7.168569e+07   12.832  2.029    3.380  51.086  32.045   \n",
      "4      NCGC00167516-01  7.989702e+06   12.936  2.124    3.573  70.295  46.402   \n",
      "...                ...           ...      ...    ...      ...     ...     ...   \n",
      "12055  NCGC00261292-01  1.428572e+07   14.255  2.000    2.628   9.259   6.309   \n",
      "12056  NCGC00261245-01  1.193182e+07   13.674  2.061    2.920  21.142  15.382   \n",
      "12057  NCGC00260828-01  1.081800e+01   12.374  2.045    3.128  33.242  20.457   \n",
      "12058  NCGC00260687-01  3.229000e+00   12.543  2.267    2.700  10.251   7.381   \n",
      "12059  NCGC00261465-01  1.931035e+07   15.004  1.867    2.985  20.190  12.619   \n",
      "\n",
      "       Chi10    Chi2    Chi3  ...        W3D        W3DH    WNSA1      WNSA2  \\\n",
      "0      1.496  15.127  12.592  ...   2687.469    9241.018  115.371   -915.496   \n",
      "1      1.937  13.187  11.951  ...   2184.384    3234.199  194.740  -1029.609   \n",
      "2      3.806  30.105  25.569  ...  13803.524   76582.899  238.004  -4358.946   \n",
      "3      1.806  29.090  21.603  ...  13807.345   50498.175  226.312  -2785.555   \n",
      "4      3.604  42.132  32.570  ...  43231.286  163659.229  850.869 -21136.699   \n",
      "...      ...     ...     ...  ...        ...         ...      ...        ...   \n",
      "12055  0.157   5.468   4.484  ...    306.364    1435.590   76.419   -190.192   \n",
      "12056  1.201  12.713  10.576  ...   2528.642   12293.627   94.878   -595.491   \n",
      "12057  0.806  19.711  14.799  ...   9171.300   44070.070  267.400  -2656.568   \n",
      "12058  0.587   6.455   5.857  ...    391.790    1815.417   39.578   -105.234   \n",
      "12059  0.738  12.270   8.882  ...   2271.224    4492.115  156.459   -946.731   \n",
      "\n",
      "         WNSA3     WPSA1      WPSA2    WPSA3     grav   rygr  \n",
      "0      -39.983   290.078   2301.941   59.492   88.147  3.708  \n",
      "1      -34.205   235.360   1244.323   82.906  134.852  4.131  \n",
      "2     -106.537   868.685  15909.444  135.335  216.852  5.075  \n",
      "3      -61.923   763.288   9394.859  125.509  238.265  4.640  \n",
      "4     -367.122  1798.703  44681.209  362.168  317.901  7.845  \n",
      "...        ...       ...        ...      ...      ...    ...  \n",
      "12055  -13.757   100.624    250.402   19.275   29.148  2.581  \n",
      "12056  -22.275   324.131   2034.439   49.446   93.636  3.666  \n",
      "12057 -104.039   874.679   8689.849  144.294   91.670  8.054  \n",
      "12058   -9.967   146.565    389.732   23.879   28.201  2.954  \n",
      "12059  -68.221   240.955   1458.016  104.638   87.731  4.052  \n",
      "\n",
      "[12060 rows x 802 columns]\n"
     ]
    }
   ],
   "source": [
    "print(features)"
   ]
  },
  {
   "cell_type": "code",
   "execution_count": null,
   "metadata": {},
   "outputs": [],
   "source": [
    "train_graphs, test_graphs = train_test_split(graphs, test_size=0.2, random_state=42)\n"
   ]
  },
  {
   "cell_type": "code",
   "execution_count": null,
   "metadata": {},
   "outputs": [],
   "source": [
    "class ToxicClassifier(nn.Module):\n",
    "    def __init__(self, input_dim, hidden_dim):\n",
    "        super(ToxicClassifier, self).__init__()\n",
    "        self.encoder = GraphEncoder(input_dim, hidden_dim)\n",
    "        self.fc = nn.Linear(hidden_dim, 1)\n",
    "\n",
    "    def forward(self, data):\n",
    "        x = self.encoder(data)\n",
    "        x = self.fc(x)\n",
    "        return torch.sigmoid(x)\n",
    "\n",
    "\n",
    "# Initialize model\n",
    "input_dim = len(graphs[0].x[0])  # Assuming node feature size is same for all graphs\n",
    "hidden_dim = 64\n",
    "model = ToxicClassifier(input_dim, hidden_dim)\n",
    "\n",
    "criterion = nn.BCELoss()\n",
    "optimizer = optim.Adam(model.parameters(), lr=0.001)\n",
    "\n",
    "# Train model\n",
    "num_epochs = 10\n",
    "for epoch in range(num_epochs):\n",
    "    model.train()\n",
    "    for graph in train_graphs:\n",
    "        optimizer.zero_grad()\n",
    "        output = model(graph)\n",
    "        target = torch.tensor([graph.tox], dtype=torch.float)  #### CHECK with the tox21 data to validate what the column name is!!\n",
    "        loss = criterion(output, target)\n",
    "        loss.backward()\n",
    "        optimizer.step()\n",
    "    print(f'Epoch {epoch+1}/{num_epochs}, Loss: {loss.item()}')\n",
    "\n",
    "# Evaluate model\n",
    "model.eval()\n",
    "with torch.no_grad():\n",
    "    correct = 0\n",
    "    total = 0\n",
    "    for graph in test_graphs:\n",
    "        output = model(graph)\n",
    "        predicted = torch.round(output)\n",
    "        target = torch.tensor([graph.y], dtype=torch.float)\n",
    "        total += 1\n",
    "        if predicted == target:\n",
    "            correct += 1\n",
    "\n",
    "    accuracy = correct / total\n",
    "    print(f'Accuracy: {accuracy}')"
   ]
  }
 ],
 "metadata": {
  "kernelspec": {
   "display_name": "Python 3",
   "language": "python",
   "name": "python3"
  },
  "language_info": {
   "codemirror_mode": {
    "name": "ipython",
    "version": 3
   },
   "file_extension": ".py",
   "mimetype": "text/x-python",
   "name": "python",
   "nbconvert_exporter": "python",
   "pygments_lexer": "ipython3",
   "version": "3.10.1"
  }
 },
 "nbformat": 4,
 "nbformat_minor": 2
}
